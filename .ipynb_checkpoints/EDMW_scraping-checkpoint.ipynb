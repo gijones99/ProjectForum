{
 "cells": [
  {
   "cell_type": "code",
   "execution_count": 1,
   "metadata": {},
   "outputs": [],
   "source": [
    "from requests import get\n",
    "from bs4 import BeautifulSoup\n",
    "import re\n",
    "import pandas as pd\n"
   ]
  },
  {
   "cell_type": "code",
   "execution_count": 2,
   "metadata": {},
   "outputs": [
    {
     "name": "stdout",
     "output_type": "stream",
     "text": [
      "Total Thread Count: 1160\n",
      "Total Comment Count: 12859\n"
     ]
    }
   ],
   "source": [
    "comment_list = [] #Master list for all comments\n",
    "thread_count = 0 \n",
    "\n",
    "for x in range(2,60):\n",
    "    url = 'https://forums.hardwarezone.com.sg/eat-drink-man-woman-16/index{}.html'.format(x)\n",
    "    response = get(url)\n",
    "    html_soup = BeautifulSoup(response.text, 'html.parser')\n",
    "    \n",
    "    thread_links_list = html_soup.find_all('a', id=re.compile('thread_title'))\n",
    "    \n",
    "    for x in thread_links_list:\n",
    "        thread_count += 1\n",
    "        thread_comment_list = [] #Empty list for comments in the thread\n",
    "        thread_quote_list = [] #Empty list for quotes(when a user replies to another user) in the thread\n",
    "\n",
    "        thread_link = 'https://forums.hardwarezone.com.sg' + x['href']\n",
    "        response2 = get(thread_link)\n",
    "        soup = BeautifulSoup(response2.text, 'html.parser')\n",
    "\n",
    "        #Capture HTML comment section in a list\n",
    "        comments = soup.find_all(attrs = {'class':'post_message'})\n",
    "        #Capture HTML quotes (when a user replies to another user) section in a list so can remove from comment_list later\n",
    "        quotes = soup.find_all(attrs={'class':'quote'})\n",
    "\n",
    "        for x in comments:\n",
    "            thread_comment_list.append(x.text) #add the comment text string to thread_comment_list\n",
    "            \n",
    "        for x in quotes:\n",
    "            thread_quote_list.append(x.text) #add the quote text string to thread_quote_list\n",
    "\n",
    "        for quote in thread_quote_list:\n",
    "            for comment in thread_comment_list:\n",
    "                if quote in comment:                   #If the quote string is present in the comment string,\n",
    "                    new_comment = comment.strip(quote) #Strip quotation from main comment to prevent repetition\n",
    "                    thread_comment_list[thread_comment_list.index(comment)] = new_comment #Replace original comment string with new comment string\n",
    "            \n",
    "        comment_list.extend(thread_comment_list) #add comments in this thread to master comment list\n",
    "                  \n",
    "    print('Comment Count: {}'.format(len(comment_list)), end ='\\r')\n",
    "\n",
    "print('Total Thread Count: {}\\nTotal Comment Count: {}'.format(thread_count,len(comment_list)))\n",
    "\n"
   ]
  },
  {
   "cell_type": "code",
   "execution_count": 3,
   "metadata": {},
   "outputs": [
    {
     "data": {
      "text/plain": [
       "12859"
      ]
     },
     "execution_count": 3,
     "metadata": {},
     "output_type": "execute_result"
    }
   ],
   "source": [
    "len(comment_list)"
   ]
  },
  {
   "cell_type": "code",
   "execution_count": 4,
   "metadata": {},
   "outputs": [
    {
     "data": {
      "text/html": [
       "<div>\n",
       "<style scoped>\n",
       "    .dataframe tbody tr th:only-of-type {\n",
       "        vertical-align: middle;\n",
       "    }\n",
       "\n",
       "    .dataframe tbody tr th {\n",
       "        vertical-align: top;\n",
       "    }\n",
       "\n",
       "    .dataframe thead th {\n",
       "        text-align: right;\n",
       "    }\n",
       "</style>\n",
       "<table border=\"1\" class=\"dataframe\">\n",
       "  <thead>\n",
       "    <tr style=\"text-align: right;\">\n",
       "      <th></th>\n",
       "      <th>Comment</th>\n",
       "    </tr>\n",
       "  </thead>\n",
       "  <tbody>\n",
       "    <tr>\n",
       "      <th>0</th>\n",
       "      <td>dear fellow HWZers,please feel free to ask me ...</td>\n",
       "    </tr>\n",
       "    <tr>\n",
       "      <th>1</th>\n",
       "      <td>Reserved for updates.</td>\n",
       "    </tr>\n",
       "    <tr>\n",
       "      <th>2</th>\n",
       "      <td>This is a continuation thread, the old thread ...</td>\n",
       "    </tr>\n",
       "    <tr>\n",
       "      <th>3</th>\n",
       "      <td>搬家了。。。。。。。。</td>\n",
       "    </tr>\n",
       "    <tr>\n",
       "      <th>4</th>\n",
       "      <td></td>\n",
       "    </tr>\n",
       "    <tr>\n",
       "      <th>5</th>\n",
       "      <td>Hello fellow members, Im here to support bro ...</td>\n",
       "    </tr>\n",
       "    <tr>\n",
       "      <th>6</th>\n",
       "      <td>in 1st page..\\n\\nmoi wish is 和喜欢的她(B) 结个善缘 永结同...</td>\n",
       "    </tr>\n",
       "    <tr>\n",
       "      <th>7</th>\n",
       "      <td>wah polar got second thread le 😁</td>\n",
       "    </tr>\n",
       "    <tr>\n",
       "      <th>8</th>\n",
       "      <td>A league HT flatball\\r\\nweak team may surprise...</td>\n",
       "    </tr>\n",
       "    <tr>\n",
       "      <th>9</th>\n",
       "      <td>I guess till part 5 you still talking abou</td>\n",
       "    </tr>\n",
       "    <tr>\n",
       "      <th>10</th>\n",
       "      <td>hopefully when hit part 5, we are happily married</td>\n",
       "    </tr>\n",
       "    <tr>\n",
       "      <th>11</th>\n",
       "      <td>see lar\\r\\nweak team just scored at 50th min\\r...</td>\n",
       "    </tr>\n",
       "    <tr>\n",
       "      <th>12</th>\n",
       "      <td>Wah polar got play ball one?</td>\n",
       "    </tr>\n",
       "    <tr>\n",
       "      <th>13</th>\n",
       "      <td>k team stretch the lead to 3-0 then suffer a l...</td>\n",
       "    </tr>\n",
       "    <tr>\n",
       "      <th>14</th>\n",
       "      <td>\\n\\n</td>\n",
       "    </tr>\n",
       "    <tr>\n",
       "      <th>15</th>\n",
       "      <td>https://sg.news.yahoo.com/japan-us-s...0633022...</td>\n",
       "    </tr>\n",
       "    <tr>\n",
       "      <th>16</th>\n",
       "      <td>its ok la, if anything goes wrong, its not the...</td>\n",
       "    </tr>\n",
       "    <tr>\n",
       "      <th>17</th>\n",
       "      <td>Don't think they announced which variant they ...</td>\n",
       "    </tr>\n",
       "    <tr>\n",
       "      <th>18</th>\n",
       "      <td>, f-16 crashed how many liao? why sg still buy...</td>\n",
       "    </tr>\n",
       "    <tr>\n",
       "      <th>19</th>\n",
       "      <td>The Japanese is trying out Kamakazi with F35</td>\n",
       "    </tr>\n",
       "  </tbody>\n",
       "</table>\n",
       "</div>"
      ],
      "text/plain": [
       "                                              Comment\n",
       "0   dear fellow HWZers,please feel free to ask me ...\n",
       "1                               Reserved for updates.\n",
       "2   This is a continuation thread, the old thread ...\n",
       "3                                         搬家了。。。。。。。。\n",
       "4                                                    \n",
       "5   Hello fellow members, Im here to support bro ...\n",
       "6   in 1st page..\\n\\nmoi wish is 和喜欢的她(B) 结个善缘 永结同...\n",
       "7                    wah polar got second thread le 😁\n",
       "8   A league HT flatball\\r\\nweak team may surprise...\n",
       "9          I guess till part 5 you still talking abou\n",
       "10  hopefully when hit part 5, we are happily married\n",
       "11  see lar\\r\\nweak team just scored at 50th min\\r...\n",
       "12                       Wah polar got play ball one?\n",
       "13  k team stretch the lead to 3-0 then suffer a l...\n",
       "14                                               \\n\\n\n",
       "15  https://sg.news.yahoo.com/japan-us-s...0633022...\n",
       "16  its ok la, if anything goes wrong, its not the...\n",
       "17  Don't think they announced which variant they ...\n",
       "18  , f-16 crashed how many liao? why sg still buy...\n",
       "19       The Japanese is trying out Kamakazi with F35"
      ]
     },
     "execution_count": 4,
     "metadata": {},
     "output_type": "execute_result"
    }
   ],
   "source": [
    "df = pd.DataFrame({'Comment':comment_list}) #Create pandas object\n",
    "df.head(20)"
   ]
  },
  {
   "cell_type": "code",
   "execution_count": null,
   "metadata": {},
   "outputs": [],
   "source": []
  }
 ],
 "metadata": {
  "kernelspec": {
   "display_name": "Python 3",
   "language": "python",
   "name": "python3"
  },
  "language_info": {
   "codemirror_mode": {
    "name": "ipython",
    "version": 3
   },
   "file_extension": ".py",
   "mimetype": "text/x-python",
   "name": "python",
   "nbconvert_exporter": "python",
   "pygments_lexer": "ipython3",
   "version": "3.7.3"
  }
 },
 "nbformat": 4,
 "nbformat_minor": 2
}
