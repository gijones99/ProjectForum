{
 "cells": [
  {
   "cell_type": "code",
   "execution_count": 1,
   "metadata": {},
   "outputs": [],
   "source": [
    "from requests import get\n",
    "from bs4 import BeautifulSoup\n",
    "import re\n",
    "import pandas as pd\n"
   ]
  },
  {
   "cell_type": "code",
   "execution_count": 3,
   "metadata": {},
   "outputs": [
    {
     "name": "stdout",
     "output_type": "stream",
     "text": [
      "Total Thread Count: 20\n",
      "Total Comment Count: 10776\n"
     ]
    }
   ],
   "source": [
    "comment_list = []\n",
    "\n",
    "for x in range(2,50):\n",
    "    url = 'https://forums.hardwarezone.com.sg/eat-drink-man-woman-16/index{}.html'.format(x)\n",
    "    response = get(url)\n",
    "    html_soup = BeautifulSoup(response.text, 'html.parser')\n",
    "    \n",
    "    thread_links_list = html_soup.find_all('a', id=re.compile('thread_title'))\n",
    "    \n",
    "    for x in thread_links_list:\n",
    "        thread_comment_list = []\n",
    "        thread_quote_list = []\n",
    "\n",
    "        thread_link = 'https://forums.hardwarezone.com.sg' + x['href']\n",
    "        response2 = get(thread_link)\n",
    "        soup = BeautifulSoup(response2.text, 'html.parser')\n",
    "\n",
    "\n",
    "        comments = soup.find_all(attrs = {'class':'post_message'})\n",
    "\n",
    "        for x in comments:\n",
    "            thread_comment_list.append(x.text)\n",
    "\n",
    "\n",
    "        for x in html_soup.find_all(attrs={'class':'quote'}):\n",
    "            thread_quote_list.append(x.text)\n",
    "\n",
    "        for quote in thread_quote_list:\n",
    "            for comment in thread_comment_list:\n",
    "                if quote in comment:\n",
    "                    new_comment = comment.strip(quote)\n",
    "                    thread_comment_list[thread_comment_list.index(comment)] = new_comment\n",
    "            \n",
    "        comment_list.extend(thread_comment_list)\n",
    "                  \n",
    "    print('Comment Count: {}'.format(len(comment_list)), end ='\\r')\n",
    "\n",
    "print('Total Thread Count: {}\\nTotal Comment Count: {}'.format(len(thread_links_list),len(comment_list)))"
   ]
  },
  {
   "cell_type": "code",
   "execution_count": 4,
   "metadata": {},
   "outputs": [
    {
     "data": {
      "text/plain": [
       "10776"
      ]
     },
     "execution_count": 4,
     "metadata": {},
     "output_type": "execute_result"
    }
   ],
   "source": [
    "len(comment_list)"
   ]
  },
  {
   "cell_type": "code",
   "execution_count": 6,
   "metadata": {},
   "outputs": [
    {
     "data": {
      "text/html": [
       "<div>\n",
       "<style scoped>\n",
       "    .dataframe tbody tr th:only-of-type {\n",
       "        vertical-align: middle;\n",
       "    }\n",
       "\n",
       "    .dataframe tbody tr th {\n",
       "        vertical-align: top;\n",
       "    }\n",
       "\n",
       "    .dataframe thead th {\n",
       "        text-align: right;\n",
       "    }\n",
       "</style>\n",
       "<table border=\"1\" class=\"dataframe\">\n",
       "  <thead>\n",
       "    <tr style=\"text-align: right;\">\n",
       "      <th></th>\n",
       "      <th>Comment</th>\n",
       "    </tr>\n",
       "  </thead>\n",
       "  <tbody>\n",
       "    <tr>\n",
       "      <th>0</th>\n",
       "      <td>Welcome all BBFA/NMNHNBLM to 2019.\\n\\nCurrentl...</td>\n",
       "    </tr>\n",
       "    <tr>\n",
       "      <th>1</th>\n",
       "      <td>Reserved for updates.</td>\n",
       "    </tr>\n",
       "    <tr>\n",
       "      <th>2</th>\n",
       "      <td>This is a continuation thread, the old thread ...</td>\n",
       "    </tr>\n",
       "    <tr>\n",
       "      <th>3</th>\n",
       "      <td>i am getting the last post :s12:</td>\n",
       "    </tr>\n",
       "    <tr>\n",
       "      <th>4</th>\n",
       "      <td>\\n\\n\\ntheenornmousmouse_ wrote:\\r\\n\\t\\n\\r\\n\\t\\...</td>\n",
       "    </tr>\n",
       "    <tr>\n",
       "      <th>5</th>\n",
       "      <td>in first page!\\n\\nPosted from PCWX using Ether...</td>\n",
       "    </tr>\n",
       "    <tr>\n",
       "      <th>6</th>\n",
       "      <td>did i get the 1st &amp; last post?</td>\n",
       "    </tr>\n",
       "    <tr>\n",
       "      <th>7</th>\n",
       "      <td>FIRST PAGEEEEEEEE\\r\\nHHAHHHHAHAHAHAH</td>\n",
       "    </tr>\n",
       "    <tr>\n",
       "      <th>8</th>\n",
       "      <td>\\n\\n\\ntheenornmousmouse_ wrote:\\r\\n\\t\\n\\r\\n\\t\\...</td>\n",
       "    </tr>\n",
       "    <tr>\n",
       "      <th>9</th>\n",
       "      <td>\\n\\n\\ntheenornmousmouse_ wrote:\\r\\n\\t\\n\\r\\n\\t\\...</td>\n",
       "    </tr>\n",
       "    <tr>\n",
       "      <th>10</th>\n",
       "      <td>Swee lah!!!</td>\n",
       "    </tr>\n",
       "    <tr>\n",
       "      <th>11</th>\n",
       "      <td>\\n\\n\\nwackykid wrote:\\r\\n\\t\\n\\r\\n\\t\\tgxgx u go...</td>\n",
       "    </tr>\n",
       "    <tr>\n",
       "      <th>12</th>\n",
       "      <td>\\n\\n\\ntheenornmousmouse_ wrote:\\r\\n\\t\\n\\r\\n\\t\\...</td>\n",
       "    </tr>\n",
       "    <tr>\n",
       "      <th>13</th>\n",
       "      <td>\\n\\n\\nsovie_f1ex wrote:\\r\\n\\t\\n\\r\\n\\t\\tmousey ...</td>\n",
       "    </tr>\n",
       "    <tr>\n",
       "      <th>14</th>\n",
       "      <td>\\n\\n\\ntheenornmousmouse_ wrote:\\r\\n\\t\\n\\r\\n\\t\\...</td>\n",
       "    </tr>\n",
       "    <tr>\n",
       "      <th>15</th>\n",
       "      <td>dear fellow HWZers,please feel free to ask me ...</td>\n",
       "    </tr>\n",
       "    <tr>\n",
       "      <th>16</th>\n",
       "      <td>Reserved for updates.</td>\n",
       "    </tr>\n",
       "    <tr>\n",
       "      <th>17</th>\n",
       "      <td>This is a continuation thread, the old thread ...</td>\n",
       "    </tr>\n",
       "    <tr>\n",
       "      <th>18</th>\n",
       "      <td>搬家了。。。。。。。。</td>\n",
       "    </tr>\n",
       "    <tr>\n",
       "      <th>19</th>\n",
       "      <td></td>\n",
       "    </tr>\n",
       "  </tbody>\n",
       "</table>\n",
       "</div>"
      ],
      "text/plain": [
       "                                              Comment\n",
       "0   Welcome all BBFA/NMNHNBLM to 2019.\\n\\nCurrentl...\n",
       "1                               Reserved for updates.\n",
       "2   This is a continuation thread, the old thread ...\n",
       "3                    i am getting the last post :s12:\n",
       "4   \\n\\n\\ntheenornmousmouse_ wrote:\\r\\n\\t\\n\\r\\n\\t\\...\n",
       "5   in first page!\\n\\nPosted from PCWX using Ether...\n",
       "6                     did i get the 1st & last post? \n",
       "7                FIRST PAGEEEEEEEE\\r\\nHHAHHHHAHAHAHAH\n",
       "8   \\n\\n\\ntheenornmousmouse_ wrote:\\r\\n\\t\\n\\r\\n\\t\\...\n",
       "9   \\n\\n\\ntheenornmousmouse_ wrote:\\r\\n\\t\\n\\r\\n\\t\\...\n",
       "10                                       Swee lah!!! \n",
       "11  \\n\\n\\nwackykid wrote:\\r\\n\\t\\n\\r\\n\\t\\tgxgx u go...\n",
       "12  \\n\\n\\ntheenornmousmouse_ wrote:\\r\\n\\t\\n\\r\\n\\t\\...\n",
       "13  \\n\\n\\nsovie_f1ex wrote:\\r\\n\\t\\n\\r\\n\\t\\tmousey ...\n",
       "14  \\n\\n\\ntheenornmousmouse_ wrote:\\r\\n\\t\\n\\r\\n\\t\\...\n",
       "15  dear fellow HWZers,please feel free to ask me ...\n",
       "16                              Reserved for updates.\n",
       "17  This is a continuation thread, the old thread ...\n",
       "18                                        搬家了。。。。。。。。\n",
       "19                                                   "
      ]
     },
     "execution_count": 6,
     "metadata": {},
     "output_type": "execute_result"
    }
   ],
   "source": [
    "df = pd.DataFrame({'Comment':comment_list})\n",
    "df.head(20)"
   ]
  },
  {
   "cell_type": "code",
   "execution_count": null,
   "metadata": {},
   "outputs": [],
   "source": []
  }
 ],
 "metadata": {
  "kernelspec": {
   "display_name": "Python 3",
   "language": "python",
   "name": "python3"
  },
  "language_info": {
   "codemirror_mode": {
    "name": "ipython",
    "version": 3
   },
   "file_extension": ".py",
   "mimetype": "text/x-python",
   "name": "python",
   "nbconvert_exporter": "python",
   "pygments_lexer": "ipython3",
   "version": "3.7.3"
  }
 },
 "nbformat": 4,
 "nbformat_minor": 2
}
